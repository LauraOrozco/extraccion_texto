{
 "cells": [
  {
   "cell_type": "markdown",
   "id": "dbd5f3eb",
   "metadata": {},
   "source": [
    "### Cargando librerias"
   ]
  },
  {
   "cell_type": "code",
   "execution_count": 1,
   "id": "10401389",
   "metadata": {},
   "outputs": [],
   "source": [
    "import pandas as pd\n",
    "from scipy import ndimage\n",
    "import os"
   ]
  },
  {
   "cell_type": "code",
   "execution_count": 7,
   "id": "1262dfa9",
   "metadata": {},
   "outputs": [],
   "source": [
    "try:\n",
    "    from PIL import Image\n",
    "except ImportError:\n",
    "    import Image\n",
    "import pytesseract"
   ]
  },
  {
   "cell_type": "code",
   "execution_count": 10,
   "id": "7bef8d37",
   "metadata": {},
   "outputs": [],
   "source": [
    "import cv2\n",
    "import numpy as np\n",
    "from matplotlib import pyplot as plt"
   ]
  },
  {
   "cell_type": "markdown",
   "id": "461d30f6",
   "metadata": {},
   "source": [
    "### Creando funciones"
   ]
  },
  {
   "cell_type": "code",
   "execution_count": 72,
   "id": "d790a736",
   "metadata": {},
   "outputs": [],
   "source": [
    "def getSkewAngle(cvImage) -> float:\n",
    "    newImage = cvImage.copy()\n",
    "    gray = cv2.cvtColor(newImage, cv2.COLOR_BGR2GRAY)\n",
    "    blur = cv2.GaussianBlur(gray, (9, 9), 0)\n",
    "    thresh = cv2.threshold(blur, 0, 255, cv2.THRESH_BINARY_INV + cv2.THRESH_OTSU)[1]\n",
    "\n",
    "    kernel = cv2.getStructuringElement(cv2.MORPH_RECT, (30, 5))\n",
    "    dilate = cv2.dilate(thresh, kernel, iterations=5)\n",
    "\n",
    "    contours, hierarchy = cv2.findContours(dilate, cv2.RETR_LIST, cv2.CHAIN_APPROX_SIMPLE)\n",
    "    contours = sorted(contours, key = cv2.contourArea, reverse = True)\n",
    "\n",
    "    largestContour = contours[0]\n",
    "    minAreaRect = cv2.minAreaRect(largestContour)\n",
    "\n",
    "    angle = minAreaRect[-1]\n",
    "    if angle < -45:\n",
    "        angle = 90 + angle\n",
    "    return -1.0 * angle"
   ]
  },
  {
   "cell_type": "code",
   "execution_count": 80,
   "id": "4bc830ca",
   "metadata": {},
   "outputs": [],
   "source": [
    "def limpieza_imagen(imagen):\n",
    "    gray = cv2.cvtColor(imagen, cv2.COLOR_BGR2GRAY)\n",
    "    blur = cv2.GaussianBlur(gray, (1, 1), 0)\n",
    "    ret,thresh = cv2.threshold(blur, 127,255,cv2.THRESH_TOZERO)\n",
    "    kernel = np.ones((3,3), np.uint8)\n",
    "    img_erosion = cv2.erode(thresh, kernel, iterations=1)\n",
    "    rotated = ndimage.rotate(img, -1*getSkewAngle(img))\n",
    "    return rotated"
   ]
  },
  {
   "cell_type": "markdown",
   "id": "e5c5724e",
   "metadata": {},
   "source": [
    "### Leyendo pdfs"
   ]
  },
  {
   "cell_type": "code",
   "execution_count": 2,
   "id": "68231a2c",
   "metadata": {},
   "outputs": [],
   "source": [
    "path = '/Users/lorozcoceron/Downloads/pdfs'"
   ]
  },
  {
   "cell_type": "code",
   "execution_count": 3,
   "id": "39d1ea9c",
   "metadata": {},
   "outputs": [],
   "source": [
    "contenido = os.listdir(path)"
   ]
  },
  {
   "cell_type": "code",
   "execution_count": 17,
   "id": "69f2b4b2",
   "metadata": {},
   "outputs": [],
   "source": [
    "pdf = [x for x in contenido if \".pdf\" in x]"
   ]
  },
  {
   "cell_type": "code",
   "execution_count": 19,
   "id": "e123c625",
   "metadata": {},
   "outputs": [
    {
     "data": {
      "text/plain": [
       "32"
      ]
     },
     "execution_count": 19,
     "metadata": {},
     "output_type": "execute_result"
    }
   ],
   "source": [
    "len(pdf)"
   ]
  },
  {
   "cell_type": "code",
   "execution_count": 14,
   "id": "7472f790",
   "metadata": {},
   "outputs": [],
   "source": [
    "from pdf2image import convert_from_path"
   ]
  },
  {
   "cell_type": "markdown",
   "id": "308caadb",
   "metadata": {},
   "source": [
    "### Convirtiendo pdf a imagenes"
   ]
  },
  {
   "cell_type": "code",
   "execution_count": 29,
   "id": "cdcc3b28",
   "metadata": {},
   "outputs": [],
   "source": [
    "from pdf2image import convert_from_path\n",
    " \n",
    "for i in range(len(pdf)):\n",
    "    images = convert_from_path(path+\"/\"+pdf[i])\n",
    "    images[0].save(path+\"/\"+pdf[i][:-4]+\".jpg\")"
   ]
  },
  {
   "cell_type": "code",
   "execution_count": 30,
   "id": "78133e91",
   "metadata": {},
   "outputs": [],
   "source": [
    "contenido = os.listdir(path)"
   ]
  },
  {
   "cell_type": "code",
   "execution_count": 5,
   "id": "e2d36a82",
   "metadata": {},
   "outputs": [],
   "source": [
    "images_filename = [x for x in contenido if \".jpg\" in x]"
   ]
  },
  {
   "cell_type": "markdown",
   "id": "83d699d7",
   "metadata": {},
   "source": [
    "### Procesando imagenes, extrayendo texto, guardando archivos txt"
   ]
  },
  {
   "cell_type": "code",
   "execution_count": 81,
   "id": "bb07047c",
   "metadata": {},
   "outputs": [],
   "source": [
    "for i in range(len(images_filename)):\n",
    "    img = cv2.imread(path+\"/\"+images_filename[i])\n",
    "    img_pross = limpieza_imagen(img)\n",
    "    texto = pytesseract.image_to_string(img, lang='spa')\n",
    "    new_file = open(path+\"/\"+images_filename[i][:-4] + \".txt\", \"w+\")\n",
    "    new_file.write(texto)\n",
    "    new_file.close()\n"
   ]
  }
 ],
 "metadata": {
  "kernelspec": {
   "display_name": "Python 3",
   "language": "python",
   "name": "python3"
  },
  "language_info": {
   "codemirror_mode": {
    "name": "ipython",
    "version": 3
   },
   "file_extension": ".py",
   "mimetype": "text/x-python",
   "name": "python",
   "nbconvert_exporter": "python",
   "pygments_lexer": "ipython3",
   "version": "3.8.8"
  }
 },
 "nbformat": 4,
 "nbformat_minor": 5
}
