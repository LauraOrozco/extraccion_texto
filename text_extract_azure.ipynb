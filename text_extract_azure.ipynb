{
  "nbformat": 4,
  "nbformat_minor": 0,
  "metadata": {
    "colab": {
      "name": "text_extract_azure.ipynb",
      "provenance": [],
      "mount_file_id": "1FfY_xH43IhNHOiJWp76s1s5dd5yUd2U4",
      "authorship_tag": "ABX9TyNIFtmMsRCvXLyClv6Q5iH8",
      "include_colab_link": true
    },
    "kernelspec": {
      "name": "python3",
      "display_name": "Python 3"
    },
    "language_info": {
      "name": "python"
    }
  },
  "cells": [
    {
      "cell_type": "markdown",
      "metadata": {
        "id": "view-in-github",
        "colab_type": "text"
      },
      "source": [
        "<a href=\"https://colab.research.google.com/github/LauraOrozco/extraccion_texto/blob/main/text_extract_azure.ipynb\" target=\"_parent\"><img src=\"https://colab.research.google.com/assets/colab-badge.svg\" alt=\"Open In Colab\"/></a>"
      ]
    },
    {
      "cell_type": "code",
      "execution_count": null,
      "metadata": {
        "colab": {
          "base_uri": "https://localhost:8080/"
        },
        "id": "QQP4eQ_jIWmk",
        "outputId": "6095825a-3613-4005-d805-dabb057b30c2"
      },
      "outputs": [
        {
          "output_type": "stream",
          "name": "stdout",
          "text": [
            "Collecting azure-cognitiveservices-vision-computervision\n",
            "  Downloading azure_cognitiveservices_vision_computervision-0.9.0-py2.py3-none-any.whl (39 kB)\n",
            "Collecting msrest>=0.5.0\n",
            "  Downloading msrest-0.6.21-py2.py3-none-any.whl (85 kB)\n",
            "\u001b[K     |████████████████████████████████| 85 kB 2.3 MB/s \n",
            "\u001b[?25hCollecting azure-common~=1.1\n",
            "  Downloading azure_common-1.1.27-py2.py3-none-any.whl (12 kB)\n",
            "Requirement already satisfied: certifi>=2017.4.17 in /usr/local/lib/python3.7/dist-packages (from msrest>=0.5.0->azure-cognitiveservices-vision-computervision) (2021.10.8)\n",
            "Requirement already satisfied: requests-oauthlib>=0.5.0 in /usr/local/lib/python3.7/dist-packages (from msrest>=0.5.0->azure-cognitiveservices-vision-computervision) (1.3.0)\n",
            "Collecting isodate>=0.6.0\n",
            "  Downloading isodate-0.6.1-py2.py3-none-any.whl (41 kB)\n",
            "\u001b[K     |████████████████████████████████| 41 kB 526 kB/s \n",
            "\u001b[?25hRequirement already satisfied: requests~=2.16 in /usr/local/lib/python3.7/dist-packages (from msrest>=0.5.0->azure-cognitiveservices-vision-computervision) (2.23.0)\n",
            "Requirement already satisfied: six in /usr/local/lib/python3.7/dist-packages (from isodate>=0.6.0->msrest>=0.5.0->azure-cognitiveservices-vision-computervision) (1.15.0)\n",
            "Requirement already satisfied: urllib3!=1.25.0,!=1.25.1,<1.26,>=1.21.1 in /usr/local/lib/python3.7/dist-packages (from requests~=2.16->msrest>=0.5.0->azure-cognitiveservices-vision-computervision) (1.24.3)\n",
            "Requirement already satisfied: idna<3,>=2.5 in /usr/local/lib/python3.7/dist-packages (from requests~=2.16->msrest>=0.5.0->azure-cognitiveservices-vision-computervision) (2.10)\n",
            "Requirement already satisfied: chardet<4,>=3.0.2 in /usr/local/lib/python3.7/dist-packages (from requests~=2.16->msrest>=0.5.0->azure-cognitiveservices-vision-computervision) (3.0.4)\n",
            "Requirement already satisfied: oauthlib>=3.0.0 in /usr/local/lib/python3.7/dist-packages (from requests-oauthlib>=0.5.0->msrest>=0.5.0->azure-cognitiveservices-vision-computervision) (3.1.1)\n",
            "Installing collected packages: isodate, msrest, azure-common, azure-cognitiveservices-vision-computervision\n",
            "Successfully installed azure-cognitiveservices-vision-computervision-0.9.0 azure-common-1.1.27 isodate-0.6.1 msrest-0.6.21\n"
          ]
        }
      ],
      "source": [
        "!pip install --upgrade azure-cognitiveservices-vision-computervision"
      ]
    },
    {
      "cell_type": "code",
      "source": [
        "!pip install pillow"
      ],
      "metadata": {
        "colab": {
          "base_uri": "https://localhost:8080/"
        },
        "id": "_SE_PgA3Ie5d",
        "outputId": "bbccf198-88b2-4ca2-b4d1-a6ac5a3de1cb"
      },
      "execution_count": null,
      "outputs": [
        {
          "output_type": "stream",
          "name": "stdout",
          "text": [
            "Requirement already satisfied: pillow in /usr/local/lib/python3.7/dist-packages (7.1.2)\n"
          ]
        }
      ]
    },
    {
      "cell_type": "code",
      "source": [
        "from azure.cognitiveservices.vision.computervision import ComputerVisionClient\n",
        "from azure.cognitiveservices.vision.computervision.models import OperationStatusCodes\n",
        "from azure.cognitiveservices.vision.computervision.models import VisualFeatureTypes\n",
        "from msrest.authentication import CognitiveServicesCredentials\n",
        "\n",
        "from array import array\n",
        "import os\n",
        "from PIL import Image\n",
        "import sys\n",
        "import time\n",
        "\n",
        "'''\n",
        "Authenticate\n",
        "Authenticates your credentials and creates a client.\n",
        "'''\n",
        "subscription_key = \"SUBSCRIPTION_KEY\"\n",
        "endpoint = \"ENDPOINT\""
      ],
      "metadata": {
        "id": "08Qm36VcIlBS"
      },
      "execution_count": null,
      "outputs": []
    },
    {
      "cell_type": "code",
      "source": [
        "computervision_client = ComputerVisionClient(endpoint, CognitiveServicesCredentials(subscription_key))"
      ],
      "metadata": {
        "id": "dm3Lutk4Izho"
      },
      "execution_count": null,
      "outputs": []
    },
    {
      "cell_type": "code",
      "source": [
        "'''\n",
        "OCR: Read File using the Read API, extract text - remote\n",
        "This example will extract text in an image, then print results, line by line.\n",
        "This API call can also extract handwriting style text (not shown).\n",
        "'''\n",
        "print(\"===== Read File - remote =====\")\n",
        "# Get an image with text\n",
        "read_image_path = os.path.join (\"./\", \"17-12-2021 lote 2.jpg\")\n",
        "# Open the image\n",
        "read_image = open(read_image_path, \"rb\")\n"
      ],
      "metadata": {
        "colab": {
          "base_uri": "https://localhost:8080/"
        },
        "id": "6ylJz0P9I41y",
        "outputId": "f1583e72-d939-4dbc-dbc9-5e97f835480d"
      },
      "execution_count": null,
      "outputs": [
        {
          "output_type": "stream",
          "name": "stdout",
          "text": [
            "===== Read File - remote =====\n"
          ]
        }
      ]
    },
    {
      "cell_type": "code",
      "source": [
        "# Call API with image and raw response (allows you to get the operation location)\n",
        "read_response = computervision_client.read_in_stream(read_image, raw=True)\n",
        "# Get the operation location (URL with ID as last appendage)\n",
        "read_operation_location = read_response.headers[\"Operation-Location\"]\n",
        "# Take the ID off and use to get results\n",
        "operation_id = read_operation_location.split(\"/\")[-1]"
      ],
      "metadata": {
        "id": "tZggfV2zXfiu"
      },
      "execution_count": null,
      "outputs": []
    },
    {
      "cell_type": "code",
      "source": [
        "# Call the \"GET\" API and wait for the retrieval of the results\n",
        "while True:\n",
        "    read_result = computervision_client.get_read_result(operation_id)\n",
        "    if read_result.status.lower () not in ['notstarted', 'running']:\n",
        "        break\n",
        "    print ('Waiting for result...')\n",
        "    time.sleep(10)\n",
        "\n",
        "# Print results, line by line\n",
        "if read_result.status == OperationStatusCodes.succeeded:\n",
        "    with open('17-12-2021 lote 2.txt', 'w') as f:\n",
        "      for text_result in read_result.analyze_result.read_results:\n",
        "          for line in text_result.lines:\n",
        "              f.write(line.text)\n",
        "              f.write('\\n')\n"
      ],
      "metadata": {
        "id": "fK4k7MuGXzuu"
      },
      "execution_count": null,
      "outputs": []
    },
    {
      "cell_type": "code",
      "source": [
        "import glob\n",
        "from google.colab import drive\n",
        "drive.mount('/gdrive', force_remount=True)\n",
        "\n",
        "#!ls \"/gdrive/My Drive/folder\"\n",
        "\n",
        "files = glob.glob(f\"/gdrive/My Drive/data360/17_dic/*.jpg\")"
      ],
      "metadata": {
        "colab": {
          "base_uri": "https://localhost:8080/"
        },
        "id": "SCm2F-FpgHQB",
        "outputId": "0e974597-c152-4c8a-fa81-c3cc9aefd72d"
      },
      "execution_count": 1,
      "outputs": [
        {
          "output_type": "stream",
          "name": "stdout",
          "text": [
            "Mounted at /gdrive\n"
          ]
        }
      ]
    },
    {
      "cell_type": "code",
      "source": [
        "path = \"/gdrive/My Drive/data360/17_dic/\"\n",
        "file_names = [x.replace(path,\"\") for x in files]"
      ],
      "metadata": {
        "id": "kYgExmP3dJIj"
      },
      "execution_count": 2,
      "outputs": []
    },
    {
      "cell_type": "code",
      "source": [
        "def api_text_extract(path: str, file_name: str):\n",
        "  read_image_path = os.path.join (path, file_name)\n",
        "  read_image = open(read_image_path, \"rb\")\n",
        "  read_response = computervision_client.read_in_stream(read_image, raw=True)\n",
        "  read_operation_location = read_response.headers[\"Operation-Location\"]\n",
        "  operation_id = read_operation_location.split(\"/\")[-1]\n",
        "  while True:\n",
        "      read_result = computervision_client.get_read_result(operation_id)\n",
        "      if read_result.status.lower () not in ['notstarted', 'running']:\n",
        "          break\n",
        "      print ('Waiting for result...')\n",
        "      time.sleep(10)\n",
        "\n",
        "  if read_result.status == OperationStatusCodes.succeeded:\n",
        "      with open(path+file_name+'.txt', 'w') as f:\n",
        "        for text_result in read_result.analyze_result.read_results:\n",
        "            for line in text_result.lines:\n",
        "                f.write(line.text)\n",
        "                f.write('\\n')"
      ],
      "metadata": {
        "id": "RzFIIisfik6N"
      },
      "execution_count": 3,
      "outputs": []
    },
    {
      "cell_type": "code",
      "source": [
        "for image in file_names:\n",
        "  api_text_extract(path, image)\n"
      ],
      "metadata": {
        "colab": {
          "base_uri": "https://localhost:8080/"
        },
        "id": "dR3sTAhYe4HW",
        "outputId": "27d7ebbe-2cc4-4f3a-cbd0-b9c8c1992584"
      },
      "execution_count": null,
      "outputs": [
        {
          "output_type": "stream",
          "name": "stdout",
          "text": [
            "Waiting for result...\n",
            "Waiting for result...\n",
            "Waiting for result...\n",
            "Waiting for result...\n",
            "Waiting for result...\n",
            "Waiting for result...\n",
            "Waiting for result...\n",
            "Waiting for result...\n",
            "Waiting for result...\n",
            "Waiting for result...\n",
            "Waiting for result...\n",
            "Waiting for result...\n",
            "Waiting for result...\n",
            "Waiting for result...\n",
            "Waiting for result...\n",
            "Waiting for result...\n",
            "Waiting for result...\n"
          ]
        }
      ]
    },
    {
      "cell_type": "code",
      "source": [
        "import cv2\n",
        "import numpy as np\n",
        "from matplotlib import pyplot as plt"
      ],
      "metadata": {
        "id": "3Jy9aEdN77ea"
      },
      "execution_count": 4,
      "outputs": []
    },
    {
      "cell_type": "code",
      "source": [
        "import pandas as pd\n",
        "from scipy import ndimage"
      ],
      "metadata": {
        "id": "A9yDt_ff8vjj"
      },
      "execution_count": 5,
      "outputs": []
    },
    {
      "cell_type": "code",
      "source": [
        "from PIL import Image"
      ],
      "metadata": {
        "id": "KceCW694Bnfo"
      },
      "execution_count": 6,
      "outputs": []
    },
    {
      "cell_type": "code",
      "source": [
        "def getSkewAngle(cvImage) -> float:\n",
        "    newImage = cvImage.copy()\n",
        "    gray = cv2.cvtColor(newImage, cv2.COLOR_BGR2GRAY)\n",
        "    blur = cv2.GaussianBlur(gray, (9, 9), 0)\n",
        "    thresh = cv2.threshold(blur, 0, 255, cv2.THRESH_BINARY_INV + cv2.THRESH_OTSU)[1]\n",
        "\n",
        "    kernel = cv2.getStructuringElement(cv2.MORPH_RECT, (30, 5))\n",
        "    dilate = cv2.dilate(thresh, kernel, iterations=5)\n",
        "\n",
        "    contours, hierarchy = cv2.findContours(dilate, cv2.RETR_LIST, cv2.CHAIN_APPROX_SIMPLE)\n",
        "    contours = sorted(contours, key = cv2.contourArea, reverse = True)\n",
        "\n",
        "    largestContour = contours[0]\n",
        "    minAreaRect = cv2.minAreaRect(largestContour)\n",
        "\n",
        "    angle = minAreaRect[-1]\n",
        "    if angle < -45:\n",
        "        angle = 90 + angle\n",
        "    return -1.0 * angle"
      ],
      "metadata": {
        "id": "smGlUE0x8E_8"
      },
      "execution_count": 7,
      "outputs": []
    },
    {
      "cell_type": "code",
      "source": [
        "def limpieza_imagen(imagen):\n",
        "    gray = cv2.cvtColor(imagen, cv2.COLOR_BGR2GRAY)\n",
        "    blur = cv2.GaussianBlur(gray, (1, 1), 0)\n",
        "    ret,thresh = cv2.threshold(blur, 127,255,cv2.THRESH_TOZERO)\n",
        "    kernel = np.ones((3,3), np.uint8)\n",
        "    img_erosion = cv2.erode(thresh, kernel, iterations=1)\n",
        "    rotated = ndimage.rotate(img_erosion, -1*getSkewAngle(img))\n",
        "    return rotated"
      ],
      "metadata": {
        "id": "2rAd3c2h8HwE"
      },
      "execution_count": 8,
      "outputs": []
    },
    {
      "cell_type": "code",
      "source": [
        "file_names"
      ],
      "metadata": {
        "colab": {
          "base_uri": "https://localhost:8080/"
        },
        "id": "ifVOZogq8SEh",
        "outputId": "727c8190-c376-4e9b-f670-4cfdffc23338"
      },
      "execution_count": 9,
      "outputs": [
        {
          "output_type": "execute_result",
          "data": {
            "text/plain": [
              "['Leonardo Jiménez 17-12-2021(5).jpg',\n",
              " 'Leonardo Jiménez 17-12-2021(1).jpg',\n",
              " 'Leonardo Jiménez 17-12-2021(4).jpg',\n",
              " 'Leonardo Jiménez 17-12-2021(2).jpg',\n",
              " 'Leonardo Jiménez 17-12-2021.jpg',\n",
              " 'Leonardo Jiménez 17-12-2021(9).jpg',\n",
              " 'Leonardo Jiménez 17-12-2021(7).jpg',\n",
              " 'Leonardo Jiménez 17-12-2021(6).jpg',\n",
              " 'Leonardo Jiménez 17-12-2021(8).jpg',\n",
              " '17-12-2021 lote 2(2).jpg',\n",
              " '17-12-2021 lote 2.jpg',\n",
              " '17-12-2021 lote 2(1).jpg',\n",
              " '17-12-2021 lote 2(3).jpg',\n",
              " '17-12-2021 lote 2(4).jpg',\n",
              " '17-12-2021 lote 2(5).jpg',\n",
              " 'Leonardo Jiménez 17-12-2021(10).jpg',\n",
              " 'Leonardo Jiménez 17-12-2021(3).jpg']"
            ]
          },
          "metadata": {},
          "execution_count": 9
        }
      ]
    },
    {
      "cell_type": "code",
      "source": [
        "for i in range(len(file_names)):\n",
        "    img = cv2.imread(path+\"/\"+file_names[i])\n",
        "    img_pross = limpieza_imagen(img)\n",
        "    im = Image.fromarray(img_pross)\n",
        "    im.save(path+\"/\"+file_names[i][:-4] + \"_pross.jpg\")\n"
      ],
      "metadata": {
        "id": "jUwjuomb8NJ6"
      },
      "execution_count": 10,
      "outputs": []
    }
  ]
}