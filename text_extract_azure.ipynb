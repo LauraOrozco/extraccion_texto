{
  "nbformat": 4,
  "nbformat_minor": 0,
  "metadata": {
    "colab": {
      "name": "text_extract_azure.ipynb",
      "provenance": []
    },
    "kernelspec": {
      "name": "python3",
      "display_name": "Python 3"
    },
    "language_info": {
      "name": "python"
    }
  },
  "cells": [
    {
      "cell_type": "code",
      "execution_count": 6,
      "metadata": {
        "colab": {
          "base_uri": "https://localhost:8080/"
        },
        "id": "QQP4eQ_jIWmk",
        "outputId": "6095825a-3613-4005-d805-dabb057b30c2"
      },
      "outputs": [
        {
          "output_type": "stream",
          "name": "stdout",
          "text": [
            "Collecting azure-cognitiveservices-vision-computervision\n",
            "  Downloading azure_cognitiveservices_vision_computervision-0.9.0-py2.py3-none-any.whl (39 kB)\n",
            "Collecting msrest>=0.5.0\n",
            "  Downloading msrest-0.6.21-py2.py3-none-any.whl (85 kB)\n",
            "\u001b[K     |████████████████████████████████| 85 kB 2.3 MB/s \n",
            "\u001b[?25hCollecting azure-common~=1.1\n",
            "  Downloading azure_common-1.1.27-py2.py3-none-any.whl (12 kB)\n",
            "Requirement already satisfied: certifi>=2017.4.17 in /usr/local/lib/python3.7/dist-packages (from msrest>=0.5.0->azure-cognitiveservices-vision-computervision) (2021.10.8)\n",
            "Requirement already satisfied: requests-oauthlib>=0.5.0 in /usr/local/lib/python3.7/dist-packages (from msrest>=0.5.0->azure-cognitiveservices-vision-computervision) (1.3.0)\n",
            "Collecting isodate>=0.6.0\n",
            "  Downloading isodate-0.6.1-py2.py3-none-any.whl (41 kB)\n",
            "\u001b[K     |████████████████████████████████| 41 kB 526 kB/s \n",
            "\u001b[?25hRequirement already satisfied: requests~=2.16 in /usr/local/lib/python3.7/dist-packages (from msrest>=0.5.0->azure-cognitiveservices-vision-computervision) (2.23.0)\n",
            "Requirement already satisfied: six in /usr/local/lib/python3.7/dist-packages (from isodate>=0.6.0->msrest>=0.5.0->azure-cognitiveservices-vision-computervision) (1.15.0)\n",
            "Requirement already satisfied: urllib3!=1.25.0,!=1.25.1,<1.26,>=1.21.1 in /usr/local/lib/python3.7/dist-packages (from requests~=2.16->msrest>=0.5.0->azure-cognitiveservices-vision-computervision) (1.24.3)\n",
            "Requirement already satisfied: idna<3,>=2.5 in /usr/local/lib/python3.7/dist-packages (from requests~=2.16->msrest>=0.5.0->azure-cognitiveservices-vision-computervision) (2.10)\n",
            "Requirement already satisfied: chardet<4,>=3.0.2 in /usr/local/lib/python3.7/dist-packages (from requests~=2.16->msrest>=0.5.0->azure-cognitiveservices-vision-computervision) (3.0.4)\n",
            "Requirement already satisfied: oauthlib>=3.0.0 in /usr/local/lib/python3.7/dist-packages (from requests-oauthlib>=0.5.0->msrest>=0.5.0->azure-cognitiveservices-vision-computervision) (3.1.1)\n",
            "Installing collected packages: isodate, msrest, azure-common, azure-cognitiveservices-vision-computervision\n",
            "Successfully installed azure-cognitiveservices-vision-computervision-0.9.0 azure-common-1.1.27 isodate-0.6.1 msrest-0.6.21\n"
          ]
        }
      ],
      "source": [
        "!pip install --upgrade azure-cognitiveservices-vision-computervision"
      ]
    },
    {
      "cell_type": "code",
      "source": [
        "!pip install pillow"
      ],
      "metadata": {
        "colab": {
          "base_uri": "https://localhost:8080/"
        },
        "id": "_SE_PgA3Ie5d",
        "outputId": "bbccf198-88b2-4ca2-b4d1-a6ac5a3de1cb"
      },
      "execution_count": 7,
      "outputs": [
        {
          "output_type": "stream",
          "name": "stdout",
          "text": [
            "Requirement already satisfied: pillow in /usr/local/lib/python3.7/dist-packages (7.1.2)\n"
          ]
        }
      ]
    },
    {
      "cell_type": "code",
      "source": [
        "from azure.cognitiveservices.vision.computervision import ComputerVisionClient\n",
        "from azure.cognitiveservices.vision.computervision.models import OperationStatusCodes\n",
        "from azure.cognitiveservices.vision.computervision.models import VisualFeatureTypes\n",
        "from msrest.authentication import CognitiveServicesCredentials\n",
        "\n",
        "from array import array\n",
        "import os\n",
        "from PIL import Image\n",
        "import sys\n",
        "import time\n",
        "\n",
        "'''\n",
        "Authenticate\n",
        "Authenticates your credentials and creates a client.\n",
        "'''\n",
        "subscription_key = \"SUBSCRIPTION_KEY\"\n",
        "endpoint = \"ENDPOINT\""
      ],
      "metadata": {
        "id": "08Qm36VcIlBS"
      },
      "execution_count": 8,
      "outputs": []
    },
    {
      "cell_type": "code",
      "source": [
        "computervision_client = ComputerVisionClient(endpoint, CognitiveServicesCredentials(subscription_key))"
      ],
      "metadata": {
        "id": "dm3Lutk4Izho"
      },
      "execution_count": 9,
      "outputs": []
    },
    {
      "cell_type": "code",
      "source": [
        "'''\n",
        "OCR: Read File using the Read API, extract text - remote\n",
        "This example will extract text in an image, then print results, line by line.\n",
        "This API call can also extract handwriting style text (not shown).\n",
        "'''\n",
        "print(\"===== Read File - remote =====\")\n",
        "# Get an image with text\n",
        "read_image_path = os.path.join (\"./\", \"17-12-2021 lote 2.jpg\")\n",
        "# Open the image\n",
        "read_image = open(read_image_path, \"rb\")\n"
      ],
      "metadata": {
        "colab": {
          "base_uri": "https://localhost:8080/"
        },
        "id": "6ylJz0P9I41y",
        "outputId": "f1583e72-d939-4dbc-dbc9-5e97f835480d"
      },
      "execution_count": 10,
      "outputs": [
        {
          "output_type": "stream",
          "name": "stdout",
          "text": [
            "===== Read File - remote =====\n"
          ]
        }
      ]
    },
    {
      "cell_type": "code",
      "source": [
        "# Call API with image and raw response (allows you to get the operation location)\n",
        "read_response = computervision_client.read_in_stream(read_image, raw=True)\n",
        "# Get the operation location (URL with ID as last appendage)\n",
        "read_operation_location = read_response.headers[\"Operation-Location\"]\n",
        "# Take the ID off and use to get results\n",
        "operation_id = read_operation_location.split(\"/\")[-1]"
      ],
      "metadata": {
        "id": "tZggfV2zXfiu"
      },
      "execution_count": 11,
      "outputs": []
    },
    {
      "cell_type": "code",
      "source": [
        "# Call the \"GET\" API and wait for the retrieval of the results\n",
        "while True:\n",
        "    read_result = computervision_client.get_read_result(operation_id)\n",
        "    if read_result.status.lower () not in ['notstarted', 'running']:\n",
        "        break\n",
        "    print ('Waiting for result...')\n",
        "    time.sleep(10)\n",
        "\n",
        "# Print results, line by line\n",
        "if read_result.status == OperationStatusCodes.succeeded:\n",
        "    with open('17-12-2021 lote 2.txt', 'w') as f:\n",
        "      for text_result in read_result.analyze_result.read_results:\n",
        "          for line in text_result.lines:\n",
        "              f.write(line.text)\n",
        "              f.write('\\n')\n"
      ],
      "metadata": {
        "id": "fK4k7MuGXzuu"
      },
      "execution_count": 12,
      "outputs": []
    },
    {
      "cell_type": "code",
      "source": [
        "import glob\n",
        "from google.colab import drive\n",
        "drive.mount('/gdrive', force_remount=True)\n",
        "\n",
        "#!ls \"/gdrive/My Drive/folder\"\n",
        "\n",
        "files = glob.glob(f\"/gdrive/My Drive/data360/17_dic/*.jpg\")"
      ],
      "metadata": {
        "colab": {
          "base_uri": "https://localhost:8080/"
        },
        "id": "SCm2F-FpgHQB",
        "outputId": "9d54969f-99c0-42e1-e7fa-98ce8bb00057"
      },
      "execution_count": 14,
      "outputs": [
        {
          "output_type": "stream",
          "name": "stdout",
          "text": [
            "Mounted at /gdrive\n"
          ]
        }
      ]
    },
    {
      "cell_type": "code",
      "source": [
        "path = \"/gdrive/My Drive/data360/17_dic/\"\n",
        "file_names = [x.replace(path,\"\") for x in files]"
      ],
      "metadata": {
        "id": "kYgExmP3dJIj"
      },
      "execution_count": 15,
      "outputs": []
    },
    {
      "cell_type": "code",
      "source": [
        "def api_text_extract(path: str, file_name: str):\n",
        "  read_image_path = os.path.join (path, file_name)\n",
        "  read_image = open(read_image_path, \"rb\")\n",
        "  read_response = computervision_client.read_in_stream(read_image, raw=True)\n",
        "  read_operation_location = read_response.headers[\"Operation-Location\"]\n",
        "  operation_id = read_operation_location.split(\"/\")[-1]\n",
        "  while True:\n",
        "      read_result = computervision_client.get_read_result(operation_id)\n",
        "      if read_result.status.lower () not in ['notstarted', 'running']:\n",
        "          break\n",
        "      print ('Waiting for result...')\n",
        "      time.sleep(10)\n",
        "\n",
        "  if read_result.status == OperationStatusCodes.succeeded:\n",
        "      with open(path+file_name+'.txt', 'w') as f:\n",
        "        for text_result in read_result.analyze_result.read_results:\n",
        "            for line in text_result.lines:\n",
        "                f.write(line.text)\n",
        "                f.write('\\n')"
      ],
      "metadata": {
        "id": "RzFIIisfik6N"
      },
      "execution_count": 16,
      "outputs": []
    },
    {
      "cell_type": "code",
      "source": [
        "for image in file_names:\n",
        "  api_text_extract(path, image)\n"
      ],
      "metadata": {
        "colab": {
          "base_uri": "https://localhost:8080/"
        },
        "id": "dR3sTAhYe4HW",
        "outputId": "27d7ebbe-2cc4-4f3a-cbd0-b9c8c1992584"
      },
      "execution_count": 17,
      "outputs": [
        {
          "output_type": "stream",
          "name": "stdout",
          "text": [
            "Waiting for result...\n",
            "Waiting for result...\n",
            "Waiting for result...\n",
            "Waiting for result...\n",
            "Waiting for result...\n",
            "Waiting for result...\n",
            "Waiting for result...\n",
            "Waiting for result...\n",
            "Waiting for result...\n",
            "Waiting for result...\n",
            "Waiting for result...\n",
            "Waiting for result...\n",
            "Waiting for result...\n",
            "Waiting for result...\n",
            "Waiting for result...\n",
            "Waiting for result...\n",
            "Waiting for result...\n"
          ]
        }
      ]
    }
  ]
}